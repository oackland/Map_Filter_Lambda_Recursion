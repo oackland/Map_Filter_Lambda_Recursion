{
 "cells": [
  {
   "cell_type": "markdown",
   "metadata": {
    "id": "H2YhhDgsSUEP"
   },
   "source": [
    "# Map, Filter, Reduce, Lambda & Recursion"
   ]
  },
  {
   "cell_type": "markdown",
   "metadata": {
    "id": "iBZrkWClSUET"
   },
   "source": [
    "## Tasks Today:\n",
    "\n",
    "1) <b>Lambda Functions</b> <br>\n",
    " &nbsp;&nbsp;&nbsp;&nbsp; a) Syntax <br>\n",
    " &nbsp;&nbsp;&nbsp;&nbsp; b) Saving to a Variable <br>\n",
    " &nbsp;&nbsp;&nbsp;&nbsp; c) Multiple Inputs <br>\n",
    " &nbsp;&nbsp;&nbsp;&nbsp; d) Passing a Lambda into a Function <br>\n",
    " &nbsp;&nbsp;&nbsp;&nbsp; e) Returning a Lambda from a Function <br>\n",
    " &nbsp;&nbsp;&nbsp;&nbsp; f) In-Class Exercise #1 <br>\n",
    "2) <b>Map</b> <br>\n",
    " &nbsp;&nbsp;&nbsp;&nbsp; a) Syntax <br>\n",
    " &nbsp;&nbsp;&nbsp;&nbsp; b) Using Lambda's with Map <br>\n",
    " &nbsp;&nbsp;&nbsp;&nbsp; c) In-Class Exercise #2 <br>\n",
    "3) <b>Filter</b> <br>\n",
    " &nbsp;&nbsp;&nbsp;&nbsp; a) Syntax <br>\n",
    " &nbsp;&nbsp;&nbsp;&nbsp; b) Using Lambda's with Filter <br>\n",
    " &nbsp;&nbsp;&nbsp;&nbsp; c) In-Class Exercise #3 <br>\n",
    "4) <b>Reduce</b> <br>\n",
    " &nbsp;&nbsp;&nbsp;&nbsp; a) Syntax <br>\n",
    " &nbsp;&nbsp;&nbsp;&nbsp; b) Using Lambda's with Reduce <br>\n",
    " &nbsp;&nbsp;&nbsp;&nbsp; c) In-Class Exercise #4 <br>\n",
    "5) <b>Recursion</b> <br>\n",
    " &nbsp;&nbsp;&nbsp;&nbsp; a) Implementing a Base <br>\n",
    " &nbsp;&nbsp;&nbsp;&nbsp; b) Writing a Factorial Function <br>\n",
    " &nbsp;&nbsp;&nbsp;&nbsp; c) In-Class Exercise #5 <br>\n",
    "6) <b>Generators & Iterators</b> <br>\n",
    " &nbsp;&nbsp;&nbsp;&nbsp; a) Yield Keyword <br>\n",
    " &nbsp;&nbsp;&nbsp;&nbsp; b) Inifinite Generator <br>\n",
    " &nbsp;&nbsp;&nbsp;&nbsp; c) In-Class Exercise #6 <br>\n",
    "7) <b>Exercises</b> <br>\n",
    " &nbsp;&nbsp;&nbsp;&nbsp; a) Exercise #1 - Filtering Empty Strings <br>\n",
    " &nbsp;&nbsp;&nbsp;&nbsp; b) Exercise #2 - Sorting with Last Name <br>\n",
    " &nbsp;&nbsp;&nbsp;&nbsp; c) Exercise #3 - Conversion to Farhenheit <br>\n",
    " &nbsp;&nbsp;&nbsp;&nbsp; d) Exercise #4 - Fibonacci Sequence <br>"
   ]
  },
  {
   "cell_type": "markdown",
   "metadata": {
    "id": "HsiMyCZBSUEU"
   },
   "source": [
    "## Lambda Functions <br>\n",
    "<p>Lambda functions... or \"Anonymous Functions\" are referring to inline functions with no name. The keyword lambda denotes the no name function, and executes within a single line. Without saving it to a variable; however, it is not able to be used, unless passed in either as a paramater or within list comprehension.<br>Written as \"(keyword lambda) (one or more inputs) (colon) (function to be executed)\"</p>"
   ]
  },
  {
   "cell_type": "markdown",
   "metadata": {
    "id": "UnsQ19gmSUEV"
   },
   "source": [
    "#### Syntax"
   ]
  },
  {
   "cell_type": "code",
   "execution_count": 1,
   "metadata": {
    "id": "7JCaPARxSUEV",
    "outputId": "8e4efffd-e46a-46c2-baa7-39c0666b1163",
    "ExecuteTime": {
     "end_time": "2023-08-31T04:38:13.859681Z",
     "start_time": "2023-08-31T04:38:13.573969500Z"
    }
   },
   "outputs": [
    {
     "name": "stdout",
     "output_type": "stream",
     "text": [
      "6\n",
      "<function <lambda> at 0x000001912D42B6A0>\n"
     ]
    }
   ],
   "source": [
    "def addTwo(num):\n",
    "    return num + 2\n",
    "\n",
    "print(addTwo(4))\n",
    "\n",
    "#Lambda syntax/anatomy\n",
    "# lambda parameter: expression whos value gets\n",
    "\n",
    "print(lambda num: num + 2)"
   ]
  },
  {
   "cell_type": "markdown",
   "metadata": {
    "id": "nhv_6CyJSUEY"
   },
   "source": [
    "#### Saving to a Variable"
   ]
  },
  {
   "cell_type": "code",
   "execution_count": 2,
   "metadata": {
    "id": "wJOJcx_CSUEY",
    "outputId": "ed5e1392-30e5-45ab-858c-6a0e045202c7",
    "ExecuteTime": {
     "end_time": "2023-08-31T04:38:13.863182400Z",
     "start_time": "2023-08-31T04:38:13.583522500Z"
    }
   },
   "outputs": [
    {
     "name": "stdout",
     "output_type": "stream",
     "text": [
      "<function <lambda> at 0x000001912D42B380>\n",
      "9\n"
     ]
    }
   ],
   "source": [
    "addTwo = lambda num: num + 2\n",
    "\n",
    "print(addTwo)\n",
    "print(addTwo(7))"
   ]
  },
  {
   "cell_type": "markdown",
   "metadata": {
    "id": "lhHkCz5LSUEZ"
   },
   "source": [
    "#### Multiple Inputs"
   ]
  },
  {
   "cell_type": "code",
   "execution_count": 3,
   "metadata": {
    "id": "opomR3cXSUEZ",
    "outputId": "70cf6b61-ab43-4c5a-c12f-868fc557fe81",
    "ExecuteTime": {
     "end_time": "2023-08-31T04:38:13.863182400Z",
     "start_time": "2023-08-31T04:38:13.590719100Z"
    }
   },
   "outputs": [
    {
     "name": "stdout",
     "output_type": "stream",
     "text": [
      "<function <lambda> at 0x000001912D42BD80>\n",
      "6\n"
     ]
    }
   ],
   "source": [
    "volume = lambda length,width,height: length*width*height\n",
    "\n",
    "print(volume)\n",
    "print(volume(1,2,3))"
   ]
  },
  {
   "cell_type": "markdown",
   "metadata": {
    "id": "Krj5EtsDSUEa"
   },
   "source": [
    "#### Passing a Lambda into a Function"
   ]
  },
  {
   "cell_type": "code",
   "execution_count": 4,
   "metadata": {
    "id": "kOh2x4pxSUEa",
    "outputId": "9309f604-0d3c-4cee-d7bc-c439cb87c44a",
    "ExecuteTime": {
     "end_time": "2023-08-31T04:38:13.864186100Z",
     "start_time": "2023-08-31T04:38:13.595732600Z"
    }
   },
   "outputs": [
    {
     "name": "stdout",
     "output_type": "stream",
     "text": [
      "9\n"
     ]
    }
   ],
   "source": [
    "def multiply(function, num):\n",
    "    return function(num)\n",
    "\n",
    "print(multiply(lambda num: num * num, 3))"
   ]
  },
  {
   "cell_type": "markdown",
   "metadata": {
    "id": "AzFI3BpCSUEa"
   },
   "source": [
    "#### Returning a Lambda from a Function"
   ]
  },
  {
   "cell_type": "code",
   "execution_count": 5,
   "metadata": {
    "id": "iX8aAVHiSUEb",
    "outputId": "48489a03-cfb2-465e-e7cb-7d9913048205",
    "ExecuteTime": {
     "end_time": "2023-08-31T04:38:13.866186600Z",
     "start_time": "2023-08-31T04:38:13.601962800Z"
    }
   },
   "outputs": [
    {
     "name": "stdout",
     "output_type": "stream",
     "text": [
      "16\n",
      "125\n"
     ]
    }
   ],
   "source": [
    "def multiply(num):\n",
    "    return num * 4\n",
    "\n",
    "def set_exponents(num):\n",
    "    return lambda lnum: lnum**num\n",
    "\n",
    "squares = set_exponents(2)\n",
    "\n",
    "print(squares(4))\n",
    "\n",
    "cubed = set_exponents(3)\n",
    "\n",
    "print(cubed(5))\n"
   ]
  },
  {
   "cell_type": "markdown",
   "metadata": {
    "id": "ZpiCxHaPSUEb"
   },
   "source": [
    "#### If Statements within Lambdas"
   ]
  },
  {
   "cell_type": "code",
   "execution_count": 6,
   "metadata": {
    "id": "WcKLA4GzSUEb",
    "outputId": "8f47f176-7f1b-49da-90cf-82d3e577dd7c",
    "ExecuteTime": {
     "end_time": "2023-08-31T04:38:13.867186900Z",
     "start_time": "2023-08-31T04:38:13.606129100Z"
    }
   },
   "outputs": [
    {
     "name": "stdout",
     "output_type": "stream",
     "text": [
      "6 is an even number\n"
     ]
    }
   ],
   "source": [
    "#Lambda x: True if (condition) else False\n",
    "\n",
    "is_even = lambda num: f'{num} is an even number' if num % 2 == 0 else f'{num} is not even'\n",
    "\n",
    "print(is_even(6))"
   ]
  },
  {
   "cell_type": "markdown",
   "metadata": {
    "id": "u2eMfB0rSUEb"
   },
   "source": [
    "#### In-Class Exercise #1 <br>\n",
    "<p>Write an anonymous function that cubes the arguments passed in and assign the anonymous function to a variable 'f'.</p>"
   ]
  },
  {
   "cell_type": "code",
   "execution_count": 7,
   "metadata": {
    "colab": {
     "base_uri": "https://localhost:8080/"
    },
    "id": "YNhBfHJXSUEc",
    "outputId": "9fc4ca34-1bb3-4062-dcbf-655f452706a9",
    "ExecuteTime": {
     "end_time": "2023-08-31T04:38:13.867186900Z",
     "start_time": "2023-08-31T04:38:13.614088200Z"
    }
   },
   "outputs": [
    {
     "data": {
      "text/plain": "27"
     },
     "execution_count": 7,
     "metadata": {},
     "output_type": "execute_result"
    }
   ],
   "source": [
    "f = lambda x : x*x*x\n",
    "\n",
    "f(3)"
   ]
  },
  {
   "cell_type": "markdown",
   "metadata": {
    "id": "z062rm44SUEc"
   },
   "source": [
    "## Map <br>\n",
    "<p>The map function allows you to iterate over an entire list while running a function on each item of the list. This is why the map function works well with lambda's, because it simplifies things and you write less lines of code.<br>The syntax for a map function is \"map(function to be used, list to be used)\"<br>However, you must be careful, as the map function returns a map object, not a list. To turn it into a list we use the list() type conversion.</p>"
   ]
  },
  {
   "cell_type": "markdown",
   "metadata": {
    "id": "KgBFnf8LSUEc"
   },
   "source": [
    "#### Syntax"
   ]
  },
  {
   "cell_type": "code",
   "execution_count": 8,
   "metadata": {
    "id": "iDsKfs5LSUEc",
    "outputId": "5ef58abe-1862-4c90-abc0-7e176f3d0504",
    "ExecuteTime": {
     "end_time": "2023-08-31T04:38:13.868185900Z",
     "start_time": "2023-08-31T04:38:13.619944100Z"
    }
   },
   "outputs": [
    {
     "name": "stdout",
     "output_type": "stream",
     "text": [
      "[2, 4, 6, 8, 10, 12, 14, 16]\n",
      "[2, 4, 6, 8, 10, 12, 14, 16]\n"
     ]
    }
   ],
   "source": [
    "#map(function, iterable(strings,lists,sets,dicts))\n",
    "\n",
    "#user function\n",
    "\n",
    "def doubles_nums(alist):\n",
    "    doubles = []\n",
    "    for num in alist:\n",
    "        doubles.append(num*2)\n",
    "    return doubles\n",
    "\n",
    "mylist = [1,2,3,4,5,6,7,8]\n",
    "\n",
    "print(doubles_nums(mylist))\n",
    "\n",
    "#simple 1 step function\n",
    "def double_a_num(num):\n",
    "    return num*2\n",
    "\n",
    "print(list(map(double_a_num, mylist)))"
   ]
  },
  {
   "cell_type": "markdown",
   "metadata": {
    "id": "4cETuUm6SUEd"
   },
   "source": [
    "#### Using Lambda's with Map"
   ]
  },
  {
   "cell_type": "code",
   "execution_count": 9,
   "metadata": {
    "id": "_QMbepsCSUEd",
    "outputId": "a886c1f7-b3b5-40ec-f86d-f7265d940890",
    "ExecuteTime": {
     "end_time": "2023-08-31T04:38:13.868185900Z",
     "start_time": "2023-08-31T04:38:13.624584700Z"
    }
   },
   "outputs": [
    {
     "name": "stdout",
     "output_type": "stream",
     "text": [
      "[2, 4, 6, 8, 10, 12, 14, 16]\n"
     ]
    }
   ],
   "source": [
    "\n",
    "print(list(map(lambda num: num*2, mylist)))"
   ]
  },
  {
   "cell_type": "markdown",
   "metadata": {
    "id": "JORC6X2RSUEd"
   },
   "source": [
    "#### In-Class Exercise #2 <br>\n",
    "<p>Use the map function to double each number and minus it by one in the list by using a lambda function</p>"
   ]
  },
  {
   "cell_type": "code",
   "execution_count": 10,
   "metadata": {
    "id": "yxywDeKzSUEe",
    "outputId": "7d6421cd-1ad7-498f-e8c0-70e6f62296b1",
    "ExecuteTime": {
     "end_time": "2023-08-31T04:38:13.868185900Z",
     "start_time": "2023-08-31T04:38:13.630370400Z"
    }
   },
   "outputs": [
    {
     "name": "stdout",
     "output_type": "stream",
     "text": [
      "[1, 3, 5, 7, 9, 11, 13, 15]\n"
     ]
    }
   ],
   "source": [
    "\n",
    "print(list(map(lambda num: num*2 -1, mylist)))"
   ]
  },
  {
   "cell_type": "markdown",
   "metadata": {
    "id": "DRnTG3tsSUEf"
   },
   "source": [
    "## Filter() <br>\n",
    "<p>Filter's are similar to the map function, where you're able to pass a function argument and a list argument and filter out something from the list based on the conditions passed. Similar to the map function, it returns a filter object, so you need to type convert it to a list()</p>"
   ]
  },
  {
   "cell_type": "markdown",
   "metadata": {
    "id": "mE9HBTdISUEf"
   },
   "source": [
    "#### Syntax"
   ]
  },
  {
   "cell_type": "code",
   "execution_count": 11,
   "metadata": {
    "id": "cxdecdROSUEf",
    "outputId": "506cfe5c-a63f-487c-ad95-5f1647af466d",
    "ExecuteTime": {
     "end_time": "2023-08-31T04:38:13.869185700Z",
     "start_time": "2023-08-31T04:38:13.633851800Z"
    }
   },
   "outputs": [
    {
     "name": "stdout",
     "output_type": "stream",
     "text": [
      "[21, 25, 127]\n",
      "[21, 25, 127]\n"
     ]
    }
   ],
   "source": [
    "#user defined function\n",
    "\n",
    "def night_club(people):\n",
    "    not_bounced = []\n",
    "    for person in people:\n",
    "        if person >= 21:\n",
    "            not_bounced.append(person)\n",
    "    return not_bounced\n",
    "\n",
    "alist = [1,21,25,127,18,17]\n",
    "\n",
    "print(night_club(alist))\n",
    "\n",
    "def bouncer(person):\n",
    "    return person >= 21\n",
    "\n",
    "\n",
    "print(list(filter(bouncer, alist)))"
   ]
  },
  {
   "cell_type": "markdown",
   "metadata": {
    "id": "m_fsINuCSUEg"
   },
   "source": [
    "#### Using Lambda's with Filter()"
   ]
  },
  {
   "cell_type": "code",
   "execution_count": 12,
   "metadata": {
    "id": "E73fH6RFSUEg",
    "outputId": "1f8b3ed9-c698-48b9-8094-3d12b56b052b",
    "ExecuteTime": {
     "end_time": "2023-08-31T04:38:13.869185700Z",
     "start_time": "2023-08-31T04:38:13.640149900Z"
    }
   },
   "outputs": [
    {
     "name": "stdout",
     "output_type": "stream",
     "text": [
      "[21, 25, 127]\n"
     ]
    }
   ],
   "source": [
    "print(list(filter(lambda person: True  if person >= 21 else False, alist)))"
   ]
  },
  {
   "cell_type": "markdown",
   "metadata": {
    "id": "hwZdw35QSUEh"
   },
   "source": [
    "#### In-Class Exercise #3 <br>\n",
    "<p>Filter out all the numbers that are below the mean of the list.<br><b>Hint: Import the 'statistics' module</b></p>"
   ]
  },
  {
   "cell_type": "code",
   "execution_count": 13,
   "metadata": {
    "colab": {
     "base_uri": "https://localhost:8080/"
    },
    "id": "EgLyranFSUEh",
    "outputId": "92f3e40b-1c25-40d7-f7b3-c76e19665f8c",
    "ExecuteTime": {
     "end_time": "2023-08-31T04:38:13.869185700Z",
     "start_time": "2023-08-31T04:38:13.644888200Z"
    }
   },
   "outputs": [
    {
     "name": "stdout",
     "output_type": "stream",
     "text": [
      "4.5\n"
     ]
    },
    {
     "data": {
      "text/plain": "[5, 6, 7, 8]"
     },
     "execution_count": 13,
     "metadata": {},
     "output_type": "execute_result"
    }
   ],
   "source": [
    "alist = [1,2,3,4,5,6,7,8]\n",
    "mean = sum(alist)/len(alist)\n",
    "\n",
    "print(mean)\n",
    "list(filter(lambda x :True if x > mean else False , alist))"
   ]
  },
  {
   "cell_type": "markdown",
   "metadata": {
    "id": "FuhKy7yCSUEh"
   },
   "source": [
    "## Reduce() <br>\n",
    "<p>Be very careful when using this function, as of Python 3 it's been moved to the 'functools' library and no longer is a built-in function.<br>The creator of Python himself, says to just use a for loop instead.</p>"
   ]
  },
  {
   "cell_type": "markdown",
   "metadata": {
    "id": "tqO8VztrSUEh"
   },
   "source": [
    "#### Syntax"
   ]
  },
  {
   "cell_type": "code",
   "execution_count": 14,
   "metadata": {
    "id": "rshwtRDRSUEi",
    "outputId": "2d97454f-cccd-4d33-efcd-c1d3007f8652",
    "ExecuteTime": {
     "end_time": "2023-08-31T04:38:13.869185700Z",
     "start_time": "2023-08-31T04:38:13.655614200Z"
    }
   },
   "outputs": [
    {
     "name": "stdout",
     "output_type": "stream",
     "text": [
      "36\n",
      "1 2\n",
      "3 3\n",
      "6 4\n",
      "10 5\n",
      "15 6\n",
      "21 7\n",
      "28 8\n",
      "36\n"
     ]
    }
   ],
   "source": [
    "from functools import reduce\n",
    "\n",
    "new_list = [1,2,3,4,5,6,7,8]\n",
    "\n",
    "def add_nums(nums):\n",
    "    total = 0\n",
    "    for num in nums:\n",
    "        total += num\n",
    "    return(total)\n",
    "\n",
    "print(add_nums(new_list))\n",
    "\n",
    "#reduce(functions(x,y), iterable)\n",
    "\n",
    "def reduce_nums(num1, num2):\n",
    "    print(num1, num2)\n",
    "    return num1+ num2\n",
    "\n",
    "print(reduce(reduce_nums, new_list))"
   ]
  },
  {
   "cell_type": "markdown",
   "metadata": {
    "id": "sFk4OcyHSUEi"
   },
   "source": [
    "#### Using Lambda's with Reduce()"
   ]
  },
  {
   "cell_type": "code",
   "execution_count": 15,
   "metadata": {
    "id": "f-BeWD65SUEi",
    "outputId": "18659473-7693-4b9d-a534-9457c562be64",
    "ExecuteTime": {
     "end_time": "2023-08-31T04:38:13.870186900Z",
     "start_time": "2023-08-31T04:38:13.661135300Z"
    }
   },
   "outputs": [
    {
     "data": {
      "text/plain": "40320"
     },
     "execution_count": 15,
     "metadata": {},
     "output_type": "execute_result"
    }
   ],
   "source": [
    "reduce(lambda num1, num2: num1 * num2, new_list)"
   ]
  },
  {
   "cell_type": "markdown",
   "metadata": {
    "id": "a02bRO_PSUEi"
   },
   "source": [
    "#### In-Class Exercise #4 <br>\n",
    "<p>Use the reduce function to multiply the numbers in the list below together with a lambda function.</p>"
   ]
  },
  {
   "cell_type": "code",
   "execution_count": 16,
   "metadata": {
    "colab": {
     "base_uri": "https://localhost:8080/"
    },
    "id": "b9hGOxK_SUEj",
    "outputId": "7ff57089-46f3-46b0-ee4d-0bec002a4617",
    "ExecuteTime": {
     "end_time": "2023-08-31T04:38:13.870186900Z",
     "start_time": "2023-08-31T04:38:13.665199900Z"
    }
   },
   "outputs": [
    {
     "data": {
      "text/plain": "24"
     },
     "execution_count": 16,
     "metadata": {},
     "output_type": "execute_result"
    }
   ],
   "source": [
    "from functools import reduce\n",
    "\n",
    "new_list = [1,2,3,4]\n",
    "reduce(lambda num1, num2: num1 * num2, new_list)"
   ]
  },
  {
   "cell_type": "markdown",
   "metadata": {
    "id": "ppoQPm9uSUEj"
   },
   "source": [
    "## Recursion <br>\n",
    "<p>Recursion means that a function is calling itself, so it contanstly executes until a base case is reached. It will then push the returning values back up the chain until the function is complete. A prime example of recursion is computing factorials... such that 5! (factorial) is 5*4*3*2*1 which equals 120.</p>"
   ]
  },
  {
   "cell_type": "markdown",
   "metadata": {
    "id": "ruuQKvK6SUEk"
   },
   "source": [
    "#### Implementing a Base Case"
   ]
  },
  {
   "cell_type": "code",
   "execution_count": 17,
   "metadata": {
    "id": "ZNwtvqeWSUEl",
    "outputId": "972d4bf4-0186-49e4-c4d8-df6d19207ded",
    "ExecuteTime": {
     "end_time": "2023-08-31T04:38:13.870186900Z",
     "start_time": "2023-08-31T04:38:13.669183600Z"
    }
   },
   "outputs": [
    {
     "name": "stdout",
     "output_type": "stream",
     "text": [
      "add_nums(5) = 5 + add_nums(4)\n",
      "add_nums(4) = 4 + add_nums(3)\n",
      "add_nums(3) = 3 + add_nums(2)\n",
      "add_nums(2) = 2 + add_nums(1)\n",
      "add_nums(1) = 1\n",
      "15\n"
     ]
    }
   ],
   "source": [
    "def add_nums(num):\n",
    "    #hypo num = 5\n",
    "    # 5 + 4 +3 +2 +1\n",
    "\n",
    "    #base case\n",
    "    if num <= 1:\n",
    "        print(f'add_nums({num}) = {num}')\n",
    "        return num\n",
    "    else:\n",
    "        #recursive\n",
    "        print(f'add_nums({num}) = {num} + add_nums({num-1})')\n",
    "        return num + add_nums(num - 1)\n",
    "\n",
    "print(add_nums(5))"
   ]
  },
  {
   "cell_type": "markdown",
   "metadata": {
    "id": "ooo6GUjRSUEl"
   },
   "source": [
    "#### Writing a Factorial Function"
   ]
  },
  {
   "cell_type": "code",
   "execution_count": 18,
   "metadata": {
    "id": "N-DhT9pASUEl",
    "outputId": "764fb3c0-1d29-4a94-c269-cb9e244f94f9",
    "ExecuteTime": {
     "end_time": "2023-08-31T04:38:13.870186900Z",
     "start_time": "2023-08-31T04:38:13.675733100Z"
    }
   },
   "outputs": [
    {
     "name": "stdout",
     "output_type": "stream",
     "text": [
      "add_nums(5) = 5 * add_nums(4)\n",
      "add_nums(4) = 4 * add_nums(3)\n",
      "add_nums(3) = 3 * add_nums(2)\n",
      "add_nums(2) = 2 * add_nums(1)\n",
      "add_nums(1) = 1\n",
      "120\n"
     ]
    }
   ],
   "source": [
    "def fac_nums(num):\n",
    "    #hypo num = 5\n",
    "    # 5 - 4 -3 -2 -1\n",
    "\n",
    "    #base case\n",
    "    if num <= 1:\n",
    "        print(f'add_nums({num}) = {num}')\n",
    "        return num\n",
    "    else:\n",
    "        #recursive\n",
    "        print(f'add_nums({num}) = {num} * add_nums({num-1})')\n",
    "        return num * fac_nums(num - 1)\n",
    "\n",
    "print(fac_nums(5))\n"
   ]
  },
  {
   "cell_type": "markdown",
   "metadata": {
    "id": "RdpiY2h1SUEm"
   },
   "source": [
    "#### In-Class Exercise #5 <br>\n",
    "<p>Write a recursive function that subtracts all numbers to the argument given.</p>"
   ]
  },
  {
   "cell_type": "code",
   "execution_count": 19,
   "metadata": {
    "id": "_iQKOg3lSUEm",
    "ExecuteTime": {
     "end_time": "2023-08-31T04:38:13.871186500Z",
     "start_time": "2023-08-31T04:38:13.679268200Z"
    }
   },
   "outputs": [],
   "source": [
    " # 5 - 4 -3 -2 -1\n",
    "\n"
   ]
  },
  {
   "cell_type": "markdown",
   "metadata": {
    "id": "bVcyLq8ASUEm"
   },
   "source": [
    "## Generators <br>\n",
    "<p>Generators are a type of iterable, like lists or tuples. They do not allow indexing, but they can still be iterated through with for loops. They are created using functions and the yield statement.</p>"
   ]
  },
  {
   "cell_type": "markdown",
   "metadata": {
    "id": "BnUVkuEpSUEm"
   },
   "source": [
    "#### Yield Keyword <br>\n",
    "<p>The yield keyword denotes a generator, it doesn't return so it won't leave the function and reset all variables in the function scope, instead it yields the number back to the caller.</p>"
   ]
  },
  {
   "cell_type": "code",
   "execution_count": 20,
   "metadata": {
    "id": "1ewRsAzLSUEn",
    "outputId": "cd8e1023-9ab5-4d2a-916d-9cb9f7a00030",
    "ExecuteTime": {
     "end_time": "2023-08-31T04:38:13.871186500Z",
     "start_time": "2023-08-31T04:38:13.684304200Z"
    }
   },
   "outputs": [
    {
     "name": "stdout",
     "output_type": "stream",
     "text": [
      "<function my_genny at 0x000001912D48B560>\n",
      "<generator object my_genny at 0x000001912D4816C0>\n",
      "0\n",
      "1\n",
      "2\n",
      "[3, 4, 5, 6, 7, 8, 9, 10, 11, 12]\n",
      "13\n"
     ]
    }
   ],
   "source": [
    "def my_genny():\n",
    "    num = 0\n",
    "    while True:\n",
    "        yield num\n",
    "        num += 1\n",
    "\n",
    "print(my_genny)\n",
    "\n",
    "generate = my_genny()\n",
    "print(generate)\n",
    "\n",
    "print(next(generate))\n",
    "print(next(generate))\n",
    "print(next(generate))\n",
    "\n",
    "my_list = []\n",
    "\n",
    "while len(my_list) < 10:\n",
    "    my_list.append(next(generate))\n",
    "\n",
    "print(my_list)\n",
    "print(next(generate))\n"
   ]
  },
  {
   "cell_type": "markdown",
   "metadata": {
    "id": "XiUYDTOiSUEn"
   },
   "source": [
    "#### Infinite Generator"
   ]
  },
  {
   "cell_type": "code",
   "execution_count": 21,
   "metadata": {
    "id": "9rEMxkR0SUEn",
    "ExecuteTime": {
     "end_time": "2023-08-31T04:38:13.871186500Z",
     "start_time": "2023-08-31T04:38:13.689899700Z"
    }
   },
   "outputs": [],
   "source": [
    "# bad, never create infinite loops"
   ]
  },
  {
   "cell_type": "markdown",
   "metadata": {
    "id": "oCgO0zT5SUEo"
   },
   "source": [
    "#### In-Class Exercise #6 <br>\n",
    "<p>Create a generator that takes a number argument and yields that number squared, then prints each number squared until zero is reached.</p>"
   ]
  },
  {
   "cell_type": "code",
   "execution_count": 22,
   "metadata": {
    "colab": {
     "base_uri": "https://localhost:8080/"
    },
    "id": "vkoDUSIaSUEo",
    "outputId": "45d5ec9c-b84c-470f-c1cb-3045808d87e5",
    "ExecuteTime": {
     "end_time": "2023-08-31T04:38:13.871186500Z",
     "start_time": "2023-08-31T04:38:13.693198300Z"
    }
   },
   "outputs": [
    {
     "name": "stdout",
     "output_type": "stream",
     "text": [
      "100\n",
      "81\n",
      "64\n",
      "49\n",
      "36\n",
      "25\n",
      "16\n",
      "9\n",
      "4\n",
      "1\n",
      "0\n"
     ]
    }
   ],
   "source": [
    "def my_generator(value):\n",
    "  for i in (list(range(value + 1)))[::-1]:\n",
    "    yield i * i\n",
    "\n",
    "for single in my_generator(10):\n",
    "  print(single)"
   ]
  },
  {
   "cell_type": "markdown",
   "metadata": {
    "id": "ubeCLXs4SUEo"
   },
   "source": [
    "# Exercises"
   ]
  },
  {
   "cell_type": "markdown",
   "metadata": {
    "id": "aesYq2ooSUEp"
   },
   "source": [
    "### Exercise #1 <br>\n",
    "<p>Filter out all of the empty strings from the list below</p>\n",
    "\n",
    "`Output: ['Argentina', 'San Diego', 'Boston', 'New York']`"
   ]
  },
  {
   "cell_type": "code",
   "execution_count": 23,
   "metadata": {
    "colab": {
     "base_uri": "https://localhost:8080/"
    },
    "id": "C1hX1eMvSUEp",
    "outputId": "d522b64c-9cca-4ee6-97da-a97249080f69",
    "ExecuteTime": {
     "end_time": "2023-08-31T04:38:13.871186500Z",
     "start_time": "2023-08-31T04:38:13.698795700Z"
    }
   },
   "outputs": [
    {
     "data": {
      "text/plain": "['Argentina', 'San Diego', 'Boston', 'New York']"
     },
     "execution_count": 23,
     "metadata": {},
     "output_type": "execute_result"
    }
   ],
   "source": [
    "places = [\" \",\"Argentina\", \" \", \"San Diego\",\"\",\"  \",\"\",\"Boston\",\"New York\"]\n",
    "list(filter(lambda x : True if x.strip() != \"\" else False, places))"
   ]
  },
  {
   "cell_type": "markdown",
   "metadata": {
    "id": "k9Z4oCnkSUEq"
   },
   "source": [
    "### Exercise #2 <br>\n",
    "<p>Write an anonymous function that sorts this list by the last name...<br><b>Hint: Use the \".sort()\" method and access the key\"</b></p>\n",
    "\n",
    "`Output: ['Victor aNisimov', 'Gary A.J. Bernstein', 'Joel Carter', 'Andrew P. Garfield', 'David hassELHOFF']`"
   ]
  },
  {
   "cell_type": "code",
   "execution_count": 24,
   "metadata": {
    "colab": {
     "base_uri": "https://localhost:8080/"
    },
    "id": "T7OCOXoiSUEq",
    "outputId": "8a900066-68bf-4135-c634-d3a2d889570d",
    "ExecuteTime": {
     "end_time": "2023-08-31T04:38:13.872186200Z",
     "start_time": "2023-08-31T04:38:13.704631600Z"
    }
   },
   "outputs": [
    {
     "data": {
      "text/plain": "['Victor aNisimov',\n 'Gary A.J. Bernstein',\n 'Joel Carter',\n 'Andrew P. Garfield',\n 'David hassELHOFF']"
     },
     "execution_count": 24,
     "metadata": {},
     "output_type": "execute_result"
    }
   ],
   "source": [
    "author = [\"Joel Carter\", \"Victor aNisimov\", \"Andrew P. Garfield\",\"David hassELHOFF\",\"Gary A.J. Bernstein\"]\n",
    "\n",
    "\n",
    "author.sort(key =lambda x : x.split(\" \")[-1].lower())\n",
    "author"
   ]
  },
  {
   "cell_type": "markdown",
   "metadata": {
    "id": "Q_FO_xmxSUEr"
   },
   "source": [
    "### Exercise #3 <br>\n",
    "<p>Convert the list below from Celsius to Farhenheit, using the map function with a lambda...</p>\n",
    "\n",
    "`Output: [('Nashua', 89.6), ('Boston', 53.6), ('Los Angelos', 111.2), ('Miami', 84.2)]\n",
    "`"
   ]
  },
  {
   "cell_type": "code",
   "execution_count": 25,
   "metadata": {
    "colab": {
     "base_uri": "https://localhost:8080/"
    },
    "id": "PPM89rOxSUEr",
    "outputId": "b2b69585-9842-429d-f9eb-677a6e15e515",
    "ExecuteTime": {
     "end_time": "2023-08-31T04:38:13.872186200Z",
     "start_time": "2023-08-31T04:38:13.710140100Z"
    }
   },
   "outputs": [
    {
     "data": {
      "text/plain": "[('Nashua', 89.6), ('Boston', 53.6), ('Los Angelos', 111.2), ('Miami', 84.2)]"
     },
     "execution_count": 25,
     "metadata": {},
     "output_type": "execute_result"
    }
   ],
   "source": [
    "# F = (9/5)*C + 32\n",
    "places = [('Nashua',32),(\"Boston\",12),(\"Los Angelos\",44),(\"Miami\",29)]\n",
    "list(map(lambda x : (x[0], (9/5)*x[1] + 32 ), places))"
   ]
  },
  {
   "cell_type": "markdown",
   "metadata": {
    "id": "8xoQfO9eSUEr"
   },
   "source": [
    "### Exercise #4 <br>\n",
    "<p>Write a recursion function to perform the fibonacci sequence up to the number passed in.</p>\n",
    "\n",
    "`Output for fib(5) =>\n",
    "Iteration 0: 1\n",
    "Iteration 1: 1\n",
    "Iteration 2: 2\n",
    "Iteration 3: 3\n",
    "Iteration 4: 5\n",
    "Iteration 5: 8`"
   ]
  },
  {
   "cell_type": "code",
   "execution_count": 26,
   "metadata": {
    "scrolled": true,
    "colab": {
     "base_uri": "https://localhost:8080/"
    },
    "id": "A8ArcRgDSUEs",
    "outputId": "bf171df8-dbbd-4f04-c31a-55fb6c3bbfae",
    "ExecuteTime": {
     "end_time": "2023-08-31T04:38:13.873190200Z",
     "start_time": "2023-08-31T04:38:13.716091Z"
    }
   },
   "outputs": [
    {
     "name": "stdout",
     "output_type": "stream",
     "text": [
      "1 1 2 3 5 8 "
     ]
    }
   ],
   "source": [
    "#Extra credit\n",
    "\n",
    "def fib(n, a=0,b=1):\n",
    "  print(b, end=\" \")\n",
    "  if n > 0:\n",
    "    fib(n -1 , a = b, b = a + b)\n",
    "fib(5)"
   ]
  }
 ],
 "metadata": {
  "kernelspec": {
   "display_name": "Python 3",
   "language": "python",
   "name": "python3"
  },
  "language_info": {
   "codemirror_mode": {
    "name": "ipython",
    "version": 3
   },
   "file_extension": ".py",
   "mimetype": "text/x-python",
   "name": "python",
   "nbconvert_exporter": "python",
   "pygments_lexer": "ipython3",
   "version": "3.9.13"
  },
  "colab": {
   "provenance": []
  }
 },
 "nbformat": 4,
 "nbformat_minor": 0
}
